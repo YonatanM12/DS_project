{
 "cells": [
  {
   "cell_type": "markdown",
   "metadata": {},
   "source": [
    "# Base Model HMM"
   ]
  },
  {
   "cell_type": "code",
   "execution_count": 1,
   "metadata": {},
   "outputs": [],
   "source": [
    "import pandas as pd\n",
    "import numpy as np\n",
    "from copy import deepcopy\n",
    "import matplotlib.pyplot as plt\n",
    "from matplotlib import cm\n",
    "import seaborn as sns\n",
    "from hmmlearn import hmm"
   ]
  },
  {
   "cell_type": "markdown",
   "metadata": {},
   "source": [
    "* first we set the global variables."
   ]
  },
  {
   "cell_type": "code",
   "execution_count": 2,
   "metadata": {},
   "outputs": [],
   "source": [
    "# Hidden Markov Model Modifiable Parameters\n",
    "hidden_states = 3;\n",
    "em_iterations = 100;"
   ]
  },
  {
   "cell_type": "markdown",
   "metadata": {},
   "source": [
    "* then we read the data and dealete the unwanted data"
   ]
  },
  {
   "cell_type": "code",
   "execution_count": 3,
   "metadata": {},
   "outputs": [],
   "source": [
    "df = pd.read_csv('data/SPY.csv')\n",
    "\n",
    "df.drop(columns=['Open', 'High', 'Low', 'Adj Close', 'Volume'], inplace=True)"
   ]
  },
  {
   "cell_type": "markdown",
   "metadata": {},
   "source": [
    "* Here is our remaining DF"
   ]
  },
  {
   "cell_type": "code",
   "execution_count": 4,
   "metadata": {},
   "outputs": [
    {
     "data": {
      "text/html": [
       "<div>\n",
       "<style scoped>\n",
       "    .dataframe tbody tr th:only-of-type {\n",
       "        vertical-align: middle;\n",
       "    }\n",
       "\n",
       "    .dataframe tbody tr th {\n",
       "        vertical-align: top;\n",
       "    }\n",
       "\n",
       "    .dataframe thead th {\n",
       "        text-align: right;\n",
       "    }\n",
       "</style>\n",
       "<table border=\"1\" class=\"dataframe\">\n",
       "  <thead>\n",
       "    <tr style=\"text-align: right;\">\n",
       "      <th></th>\n",
       "      <th>Date</th>\n",
       "      <th>Close</th>\n",
       "    </tr>\n",
       "  </thead>\n",
       "  <tbody>\n",
       "    <tr>\n",
       "      <th>0</th>\n",
       "      <td>1993-01-29</td>\n",
       "      <td>43.937500</td>\n",
       "    </tr>\n",
       "    <tr>\n",
       "      <th>1</th>\n",
       "      <td>1993-02-01</td>\n",
       "      <td>44.250000</td>\n",
       "    </tr>\n",
       "    <tr>\n",
       "      <th>2</th>\n",
       "      <td>1993-02-02</td>\n",
       "      <td>44.343750</td>\n",
       "    </tr>\n",
       "    <tr>\n",
       "      <th>3</th>\n",
       "      <td>1993-02-03</td>\n",
       "      <td>44.812500</td>\n",
       "    </tr>\n",
       "    <tr>\n",
       "      <th>4</th>\n",
       "      <td>1993-02-04</td>\n",
       "      <td>45.000000</td>\n",
       "    </tr>\n",
       "    <tr>\n",
       "      <th>...</th>\n",
       "      <td>...</td>\n",
       "      <td>...</td>\n",
       "    </tr>\n",
       "    <tr>\n",
       "      <th>7187</th>\n",
       "      <td>2021-08-13</td>\n",
       "      <td>445.920013</td>\n",
       "    </tr>\n",
       "    <tr>\n",
       "      <th>7188</th>\n",
       "      <td>2021-08-16</td>\n",
       "      <td>446.970001</td>\n",
       "    </tr>\n",
       "    <tr>\n",
       "      <th>7189</th>\n",
       "      <td>2021-08-17</td>\n",
       "      <td>444.040009</td>\n",
       "    </tr>\n",
       "    <tr>\n",
       "      <th>7190</th>\n",
       "      <td>2021-08-18</td>\n",
       "      <td>439.179993</td>\n",
       "    </tr>\n",
       "    <tr>\n",
       "      <th>7191</th>\n",
       "      <td>2021-08-19</td>\n",
       "      <td>439.859985</td>\n",
       "    </tr>\n",
       "  </tbody>\n",
       "</table>\n",
       "<p>7192 rows × 2 columns</p>\n",
       "</div>"
      ],
      "text/plain": [
       "            Date       Close\n",
       "0     1993-01-29   43.937500\n",
       "1     1993-02-01   44.250000\n",
       "2     1993-02-02   44.343750\n",
       "3     1993-02-03   44.812500\n",
       "4     1993-02-04   45.000000\n",
       "...          ...         ...\n",
       "7187  2021-08-13  445.920013\n",
       "7188  2021-08-16  446.970001\n",
       "7189  2021-08-17  444.040009\n",
       "7190  2021-08-18  439.179993\n",
       "7191  2021-08-19  439.859985\n",
       "\n",
       "[7192 rows x 2 columns]"
      ]
     },
     "execution_count": 4,
     "metadata": {},
     "output_type": "execute_result"
    }
   ],
   "source": [
    "df"
   ]
  },
  {
   "cell_type": "markdown",
   "metadata": {},
   "source": [
    "* Now lest set the MA and then Volatility fo some number of days"
   ]
  },
  {
   "cell_type": "code",
   "execution_count": 5,
   "metadata": {},
   "outputs": [],
   "source": [
    "yearly_adjust = np.sqrt(252)\n",
    "hist_periods = [10, 30, 60, 120]\n",
    "for period in hist_periods:\n",
    "    df[f'MA_{period}_days'] = pd.Series(np.log(df['Close'] / df['Close'].shift(1))).rolling(period).std() * yearly_adjust\n",
    "    df[f'hist_vol_{period}_days'] = pd.Series(np.log(df['Close'] / df['Close'].shift(1))).rolling(period).std() * yearly_adjust"
   ]
  },
  {
   "cell_type": "code",
   "execution_count": 6,
   "metadata": {},
   "outputs": [],
   "source": [
    "# Return is the single-day percentage return\n",
    "Return = []\n",
    "\n",
    "# Filling in data for return, moving average, and volatility\n",
    "for ind in df.index: \n",
    "    if ind >= 10:\n",
    "        prev_close = df['Close'][ind-1];\n",
    "        head_close = df['Close'][ind];\n",
    "        Return.append(((head_close-prev_close)/prev_close)*100);\n",
    "    else:\n",
    "        Return.append(0);\n",
    "\n",
    "df[\"Return\"] = Return"
   ]
  },
  {
   "cell_type": "code",
   "execution_count": 7,
   "metadata": {},
   "outputs": [],
   "source": [
    "df.fillna(0,inplace=True)"
   ]
  },
  {
   "cell_type": "markdown",
   "metadata": {},
   "source": [
    "* This is our final DF with all moving average and the Return values"
   ]
  },
  {
   "cell_type": "code",
   "execution_count": 8,
   "metadata": {},
   "outputs": [
    {
     "data": {
      "text/html": [
       "<div>\n",
       "<style scoped>\n",
       "    .dataframe tbody tr th:only-of-type {\n",
       "        vertical-align: middle;\n",
       "    }\n",
       "\n",
       "    .dataframe tbody tr th {\n",
       "        vertical-align: top;\n",
       "    }\n",
       "\n",
       "    .dataframe thead th {\n",
       "        text-align: right;\n",
       "    }\n",
       "</style>\n",
       "<table border=\"1\" class=\"dataframe\">\n",
       "  <thead>\n",
       "    <tr style=\"text-align: right;\">\n",
       "      <th></th>\n",
       "      <th>Date</th>\n",
       "      <th>Close</th>\n",
       "      <th>MA_10_days</th>\n",
       "      <th>hist_vol_10_days</th>\n",
       "      <th>MA_30_days</th>\n",
       "      <th>hist_vol_30_days</th>\n",
       "      <th>MA_60_days</th>\n",
       "      <th>hist_vol_60_days</th>\n",
       "      <th>MA_120_days</th>\n",
       "      <th>hist_vol_120_days</th>\n",
       "      <th>Return</th>\n",
       "    </tr>\n",
       "  </thead>\n",
       "  <tbody>\n",
       "    <tr>\n",
       "      <th>0</th>\n",
       "      <td>1993-01-29</td>\n",
       "      <td>43.937500</td>\n",
       "      <td>0.000000</td>\n",
       "      <td>0.000000</td>\n",
       "      <td>0.000000</td>\n",
       "      <td>0.000000</td>\n",
       "      <td>0.000000</td>\n",
       "      <td>0.000000</td>\n",
       "      <td>0.000000</td>\n",
       "      <td>0.000000</td>\n",
       "      <td>0.000000</td>\n",
       "    </tr>\n",
       "    <tr>\n",
       "      <th>1</th>\n",
       "      <td>1993-02-01</td>\n",
       "      <td>44.250000</td>\n",
       "      <td>0.000000</td>\n",
       "      <td>0.000000</td>\n",
       "      <td>0.000000</td>\n",
       "      <td>0.000000</td>\n",
       "      <td>0.000000</td>\n",
       "      <td>0.000000</td>\n",
       "      <td>0.000000</td>\n",
       "      <td>0.000000</td>\n",
       "      <td>0.000000</td>\n",
       "    </tr>\n",
       "    <tr>\n",
       "      <th>2</th>\n",
       "      <td>1993-02-02</td>\n",
       "      <td>44.343750</td>\n",
       "      <td>0.000000</td>\n",
       "      <td>0.000000</td>\n",
       "      <td>0.000000</td>\n",
       "      <td>0.000000</td>\n",
       "      <td>0.000000</td>\n",
       "      <td>0.000000</td>\n",
       "      <td>0.000000</td>\n",
       "      <td>0.000000</td>\n",
       "      <td>0.000000</td>\n",
       "    </tr>\n",
       "    <tr>\n",
       "      <th>3</th>\n",
       "      <td>1993-02-03</td>\n",
       "      <td>44.812500</td>\n",
       "      <td>0.000000</td>\n",
       "      <td>0.000000</td>\n",
       "      <td>0.000000</td>\n",
       "      <td>0.000000</td>\n",
       "      <td>0.000000</td>\n",
       "      <td>0.000000</td>\n",
       "      <td>0.000000</td>\n",
       "      <td>0.000000</td>\n",
       "      <td>0.000000</td>\n",
       "    </tr>\n",
       "    <tr>\n",
       "      <th>4</th>\n",
       "      <td>1993-02-04</td>\n",
       "      <td>45.000000</td>\n",
       "      <td>0.000000</td>\n",
       "      <td>0.000000</td>\n",
       "      <td>0.000000</td>\n",
       "      <td>0.000000</td>\n",
       "      <td>0.000000</td>\n",
       "      <td>0.000000</td>\n",
       "      <td>0.000000</td>\n",
       "      <td>0.000000</td>\n",
       "      <td>0.000000</td>\n",
       "    </tr>\n",
       "    <tr>\n",
       "      <th>...</th>\n",
       "      <td>...</td>\n",
       "      <td>...</td>\n",
       "      <td>...</td>\n",
       "      <td>...</td>\n",
       "      <td>...</td>\n",
       "      <td>...</td>\n",
       "      <td>...</td>\n",
       "      <td>...</td>\n",
       "      <td>...</td>\n",
       "      <td>...</td>\n",
       "      <td>...</td>\n",
       "    </tr>\n",
       "    <tr>\n",
       "      <th>7187</th>\n",
       "      <td>2021-08-13</td>\n",
       "      <td>445.920013</td>\n",
       "      <td>0.060217</td>\n",
       "      <td>0.060217</td>\n",
       "      <td>0.099337</td>\n",
       "      <td>0.099337</td>\n",
       "      <td>0.093842</td>\n",
       "      <td>0.093842</td>\n",
       "      <td>0.125438</td>\n",
       "      <td>0.125438</td>\n",
       "      <td>0.181984</td>\n",
       "    </tr>\n",
       "    <tr>\n",
       "      <th>7188</th>\n",
       "      <td>2021-08-16</td>\n",
       "      <td>446.970001</td>\n",
       "      <td>0.056429</td>\n",
       "      <td>0.056429</td>\n",
       "      <td>0.097529</td>\n",
       "      <td>0.097529</td>\n",
       "      <td>0.091833</td>\n",
       "      <td>0.091833</td>\n",
       "      <td>0.124633</td>\n",
       "      <td>0.124633</td>\n",
       "      <td>0.235466</td>\n",
       "    </tr>\n",
       "    <tr>\n",
       "      <th>7189</th>\n",
       "      <td>2021-08-17</td>\n",
       "      <td>444.040009</td>\n",
       "      <td>0.060805</td>\n",
       "      <td>0.060805</td>\n",
       "      <td>0.099675</td>\n",
       "      <td>0.099675</td>\n",
       "      <td>0.093130</td>\n",
       "      <td>0.093130</td>\n",
       "      <td>0.119485</td>\n",
       "      <td>0.119485</td>\n",
       "      <td>-0.655523</td>\n",
       "    </tr>\n",
       "    <tr>\n",
       "      <th>7190</th>\n",
       "      <td>2021-08-18</td>\n",
       "      <td>439.179993</td>\n",
       "      <td>0.080787</td>\n",
       "      <td>0.080787</td>\n",
       "      <td>0.105031</td>\n",
       "      <td>0.105031</td>\n",
       "      <td>0.094463</td>\n",
       "      <td>0.094463</td>\n",
       "      <td>0.120444</td>\n",
       "      <td>0.120444</td>\n",
       "      <td>-1.094500</td>\n",
       "    </tr>\n",
       "    <tr>\n",
       "      <th>7191</th>\n",
       "      <td>2021-08-19</td>\n",
       "      <td>439.859985</td>\n",
       "      <td>0.073663</td>\n",
       "      <td>0.073663</td>\n",
       "      <td>0.101894</td>\n",
       "      <td>0.101894</td>\n",
       "      <td>0.094268</td>\n",
       "      <td>0.094268</td>\n",
       "      <td>0.115767</td>\n",
       "      <td>0.115767</td>\n",
       "      <td>0.154832</td>\n",
       "    </tr>\n",
       "  </tbody>\n",
       "</table>\n",
       "<p>7192 rows × 11 columns</p>\n",
       "</div>"
      ],
      "text/plain": [
       "            Date       Close  MA_10_days  hist_vol_10_days  MA_30_days  \\\n",
       "0     1993-01-29   43.937500    0.000000          0.000000    0.000000   \n",
       "1     1993-02-01   44.250000    0.000000          0.000000    0.000000   \n",
       "2     1993-02-02   44.343750    0.000000          0.000000    0.000000   \n",
       "3     1993-02-03   44.812500    0.000000          0.000000    0.000000   \n",
       "4     1993-02-04   45.000000    0.000000          0.000000    0.000000   \n",
       "...          ...         ...         ...               ...         ...   \n",
       "7187  2021-08-13  445.920013    0.060217          0.060217    0.099337   \n",
       "7188  2021-08-16  446.970001    0.056429          0.056429    0.097529   \n",
       "7189  2021-08-17  444.040009    0.060805          0.060805    0.099675   \n",
       "7190  2021-08-18  439.179993    0.080787          0.080787    0.105031   \n",
       "7191  2021-08-19  439.859985    0.073663          0.073663    0.101894   \n",
       "\n",
       "      hist_vol_30_days  MA_60_days  hist_vol_60_days  MA_120_days  \\\n",
       "0             0.000000    0.000000          0.000000     0.000000   \n",
       "1             0.000000    0.000000          0.000000     0.000000   \n",
       "2             0.000000    0.000000          0.000000     0.000000   \n",
       "3             0.000000    0.000000          0.000000     0.000000   \n",
       "4             0.000000    0.000000          0.000000     0.000000   \n",
       "...                ...         ...               ...          ...   \n",
       "7187          0.099337    0.093842          0.093842     0.125438   \n",
       "7188          0.097529    0.091833          0.091833     0.124633   \n",
       "7189          0.099675    0.093130          0.093130     0.119485   \n",
       "7190          0.105031    0.094463          0.094463     0.120444   \n",
       "7191          0.101894    0.094268          0.094268     0.115767   \n",
       "\n",
       "      hist_vol_120_days    Return  \n",
       "0              0.000000  0.000000  \n",
       "1              0.000000  0.000000  \n",
       "2              0.000000  0.000000  \n",
       "3              0.000000  0.000000  \n",
       "4              0.000000  0.000000  \n",
       "...                 ...       ...  \n",
       "7187           0.125438  0.181984  \n",
       "7188           0.124633  0.235466  \n",
       "7189           0.119485 -0.655523  \n",
       "7190           0.120444 -1.094500  \n",
       "7191           0.115767  0.154832  \n",
       "\n",
       "[7192 rows x 11 columns]"
      ]
     },
     "execution_count": 8,
     "metadata": {},
     "output_type": "execute_result"
    }
   ],
   "source": [
    "df"
   ]
  },
  {
   "cell_type": "code",
   "execution_count": 9,
   "metadata": {},
   "outputs": [],
   "source": [
    "# now we mark the test train randomly\n",
    "\n",
    "# first we set a global var for year training days\n",
    "year = 252\n",
    "\n",
    "# we will set the start data 10 years + all nulls from MA\n",
    "start_train_idx = 121 + 10*year\n",
    "\n",
    "# stop for 2 years prior to data ends\n",
    "stop_train_idx = df.shape[0]- 2*year\n",
    "\n",
    "# and end index for the ending\n",
    "end_test_idx = df.shape[0]"
   ]
  },
  {
   "cell_type": "markdown",
   "metadata": {},
   "source": [
    "* divide the data"
   ]
  },
  {
   "cell_type": "code",
   "execution_count": 10,
   "metadata": {},
   "outputs": [],
   "source": [
    "train = pd.DataFrame(df, index = range(start_train_idx, stop_train_idx)).reset_index(drop=True)\n",
    "test = pd.DataFrame(df, index = range(stop_train_idx+1, end_test_idx)).reset_index(drop=True)"
   ]
  },
  {
   "cell_type": "markdown",
   "metadata": {},
   "source": [
    "* see the shapes"
   ]
  },
  {
   "cell_type": "code",
   "execution_count": 11,
   "metadata": {},
   "outputs": [
    {
     "data": {
      "text/plain": [
       "((4047, 11), (503, 11))"
      ]
     },
     "execution_count": 11,
     "metadata": {},
     "output_type": "execute_result"
    }
   ],
   "source": [
    "train.shape, test.shape"
   ]
  },
  {
   "cell_type": "markdown",
   "metadata": {},
   "source": [
    "* Create the model"
   ]
  },
  {
   "cell_type": "code",
   "execution_count": 12,
   "metadata": {},
   "outputs": [],
   "source": [
    "model = hmm.GaussianHMM(n_components = hidden_states, covariance_type=\"full\", n_iter = em_iterations, random_state=1826);"
   ]
  },
  {
   "cell_type": "markdown",
   "metadata": {},
   "source": [
    "* we will set the Data to be Fitted on the Volatility and the return."
   ]
  },
  {
   "cell_type": "code",
   "execution_count": 13,
   "metadata": {},
   "outputs": [],
   "source": [
    "obs = list(zip(train[\"hist_vol_10_days\"], train[\"Return\"]))"
   ]
  },
  {
   "cell_type": "markdown",
   "metadata": {},
   "source": [
    "* Fitting the model and obtaining predictions"
   ]
  },
  {
   "cell_type": "code",
   "execution_count": 14,
   "metadata": {},
   "outputs": [],
   "source": [
    "model.fit(obs)\n",
    "predictions = model.predict(obs)"
   ]
  },
  {
   "cell_type": "markdown",
   "metadata": {},
   "source": [
    "* now we see the predictions"
   ]
  },
  {
   "cell_type": "code",
   "execution_count": 15,
   "metadata": {},
   "outputs": [
    {
     "data": {
      "image/png": "[encoded data removed]",
      "text/plain": [
       "<Figure size 432x288 with 1 Axes>"
      ]
     },
     "metadata": {
      "needs_background": "light"
     },
     "output_type": "display_data"
    }
   ],
   "source": [
    "plt.plot(predictions, 'ro');"
   ]
  },
  {
   "cell_type": "markdown",
   "metadata": {},
   "source": [
    "* and lets plot the state with regards to the closing "
   ]
  },
  {
   "cell_type": "code",
   "execution_count": 16,
   "metadata": {},
   "outputs": [
    {
     "data": {
      "image/png": "[encoded data removed]",
      "text/plain": [
       "<Figure size 1296x720 with 1 Axes>"
      ]
     },
     "metadata": {
      "needs_background": "light"
     },
     "output_type": "display_data"
    }
   ],
   "source": [
    "plot = sns.relplot(x=range(0,train.shape[0]), y=\"Close\", data=train, hue=predictions, \n",
    "            linewidth = 0, palette=\"Set2\", s = 10);\n",
    "plot.fig.set_size_inches(18,10)"
   ]
  },
  {
   "cell_type": "code",
   "execution_count": 17,
   "metadata": {},
   "outputs": [
    {
     "name": "stdout",
     "output_type": "stream",
     "text": [
      "Model Score: 2685.784269877008\n"
     ]
    }
   ],
   "source": [
    "print(\"Model Score: {0}\".format(model.score(obs)));"
   ]
  },
  {
   "cell_type": "code",
   "execution_count": 18,
   "metadata": {},
   "outputs": [
    {
     "data": {
      "text/html": [
       "<div>\n",
       "<style scoped>\n",
       "    .dataframe tbody tr th:only-of-type {\n",
       "        vertical-align: middle;\n",
       "    }\n",
       "\n",
       "    .dataframe tbody tr th {\n",
       "        vertical-align: top;\n",
       "    }\n",
       "\n",
       "    .dataframe thead th {\n",
       "        text-align: right;\n",
       "    }\n",
       "</style>\n",
       "<table border=\"1\" class=\"dataframe\">\n",
       "  <thead>\n",
       "    <tr style=\"text-align: right;\">\n",
       "      <th></th>\n",
       "      <th>prediction</th>\n",
       "      <th>Return</th>\n",
       "      <th>hist_vol_10_days</th>\n",
       "    </tr>\n",
       "  </thead>\n",
       "  <tbody>\n",
       "    <tr>\n",
       "      <th>0</th>\n",
       "      <td>0</td>\n",
       "      <td>-0.040606</td>\n",
       "      <td>0.346257</td>\n",
       "    </tr>\n",
       "    <tr>\n",
       "      <th>1</th>\n",
       "      <td>1</td>\n",
       "      <td>0.063921</td>\n",
       "      <td>0.082839</td>\n",
       "    </tr>\n",
       "    <tr>\n",
       "      <th>2</th>\n",
       "      <td>2</td>\n",
       "      <td>0.016069</td>\n",
       "      <td>0.159298</td>\n",
       "    </tr>\n",
       "  </tbody>\n",
       "</table>\n",
       "</div>"
      ],
      "text/plain": [
       "   prediction    Return  hist_vol_10_days\n",
       "0           0 -0.040606          0.346257\n",
       "1           1  0.063921          0.082839\n",
       "2           2  0.016069          0.159298"
      ]
     },
     "execution_count": 18,
     "metadata": {},
     "output_type": "execute_result"
    }
   ],
   "source": [
    "res_train = deepcopy(train)\n",
    "res_train['prediction'] = predictions\n",
    "res_total = res_train[['Return', 'hist_vol_10_days', 'prediction']].groupby('prediction').mean().reset_index()\n",
    "res_total"
   ]
  },
  {
   "cell_type": "code",
   "execution_count": 19,
   "metadata": {},
   "outputs": [
    {
     "data": {
      "text/plain": [
       "0"
      ]
     },
     "execution_count": 19,
     "metadata": {},
     "output_type": "execute_result"
    }
   ],
   "source": [
    "loser_state = res_total['Return'].argmin()\n",
    "loser_state"
   ]
  },
  {
   "cell_type": "markdown",
   "metadata": {},
   "source": [
    "* we can see 1 is the \"loser state\" we will choose the other ones"
   ]
  },
  {
   "cell_type": "code",
   "execution_count": 20,
   "metadata": {},
   "outputs": [
    {
     "data": {
      "text/html": [
       "<div>\n",
       "<style scoped>\n",
       "    .dataframe tbody tr th:only-of-type {\n",
       "        vertical-align: middle;\n",
       "    }\n",
       "\n",
       "    .dataframe tbody tr th {\n",
       "        vertical-align: top;\n",
       "    }\n",
       "\n",
       "    .dataframe thead th {\n",
       "        text-align: right;\n",
       "    }\n",
       "</style>\n",
       "<table border=\"1\" class=\"dataframe\">\n",
       "  <thead>\n",
       "    <tr style=\"text-align: right;\">\n",
       "      <th></th>\n",
       "      <th>Date</th>\n",
       "      <th>Close</th>\n",
       "      <th>MA_10_days</th>\n",
       "      <th>hist_vol_10_days</th>\n",
       "      <th>MA_30_days</th>\n",
       "      <th>hist_vol_30_days</th>\n",
       "      <th>MA_60_days</th>\n",
       "      <th>hist_vol_60_days</th>\n",
       "      <th>MA_120_days</th>\n",
       "      <th>hist_vol_120_days</th>\n",
       "      <th>Return</th>\n",
       "      <th>trading_sim</th>\n",
       "    </tr>\n",
       "  </thead>\n",
       "  <tbody>\n",
       "    <tr>\n",
       "      <th>0</th>\n",
       "      <td>2003-07-24</td>\n",
       "      <td>98.489998</td>\n",
       "      <td>0.144743</td>\n",
       "      <td>0.144743</td>\n",
       "      <td>0.162325</td>\n",
       "      <td>0.162325</td>\n",
       "      <td>0.155028</td>\n",
       "      <td>0.155028</td>\n",
       "      <td>0.187889</td>\n",
       "      <td>0.187889</td>\n",
       "      <td>-0.755744</td>\n",
       "      <td>98.489998</td>\n",
       "    </tr>\n",
       "    <tr>\n",
       "      <th>1</th>\n",
       "      <td>2003-07-25</td>\n",
       "      <td>100.230003</td>\n",
       "      <td>0.165046</td>\n",
       "      <td>0.165046</td>\n",
       "      <td>0.170363</td>\n",
       "      <td>0.170363</td>\n",
       "      <td>0.158456</td>\n",
       "      <td>0.158456</td>\n",
       "      <td>0.189382</td>\n",
       "      <td>0.189382</td>\n",
       "      <td>1.766682</td>\n",
       "      <td>100.230003</td>\n",
       "    </tr>\n",
       "    <tr>\n",
       "      <th>2</th>\n",
       "      <td>2003-07-28</td>\n",
       "      <td>99.860001</td>\n",
       "      <td>0.163544</td>\n",
       "      <td>0.163544</td>\n",
       "      <td>0.167892</td>\n",
       "      <td>0.167892</td>\n",
       "      <td>0.158777</td>\n",
       "      <td>0.158777</td>\n",
       "      <td>0.188820</td>\n",
       "      <td>0.188820</td>\n",
       "      <td>-0.369153</td>\n",
       "      <td>99.860001</td>\n",
       "    </tr>\n",
       "    <tr>\n",
       "      <th>3</th>\n",
       "      <td>2003-07-29</td>\n",
       "      <td>99.400002</td>\n",
       "      <td>0.164545</td>\n",
       "      <td>0.164545</td>\n",
       "      <td>0.156343</td>\n",
       "      <td>0.156343</td>\n",
       "      <td>0.156979</td>\n",
       "      <td>0.156979</td>\n",
       "      <td>0.188698</td>\n",
       "      <td>0.188698</td>\n",
       "      <td>-0.460644</td>\n",
       "      <td>99.400002</td>\n",
       "    </tr>\n",
       "    <tr>\n",
       "      <th>4</th>\n",
       "      <td>2003-07-30</td>\n",
       "      <td>99.160004</td>\n",
       "      <td>0.162636</td>\n",
       "      <td>0.162636</td>\n",
       "      <td>0.156399</td>\n",
       "      <td>0.156399</td>\n",
       "      <td>0.157021</td>\n",
       "      <td>0.157021</td>\n",
       "      <td>0.188571</td>\n",
       "      <td>0.188571</td>\n",
       "      <td>-0.241447</td>\n",
       "      <td>99.160004</td>\n",
       "    </tr>\n",
       "    <tr>\n",
       "      <th>...</th>\n",
       "      <td>...</td>\n",
       "      <td>...</td>\n",
       "      <td>...</td>\n",
       "      <td>...</td>\n",
       "      <td>...</td>\n",
       "      <td>...</td>\n",
       "      <td>...</td>\n",
       "      <td>...</td>\n",
       "      <td>...</td>\n",
       "      <td>...</td>\n",
       "      <td>...</td>\n",
       "      <td>...</td>\n",
       "    </tr>\n",
       "    <tr>\n",
       "      <th>4042</th>\n",
       "      <td>2019-08-14</td>\n",
       "      <td>283.899994</td>\n",
       "      <td>0.277827</td>\n",
       "      <td>0.277827</td>\n",
       "      <td>0.172750</td>\n",
       "      <td>0.172750</td>\n",
       "      <td>0.149935</td>\n",
       "      <td>0.149935</td>\n",
       "      <td>0.131500</td>\n",
       "      <td>0.131500</td>\n",
       "      <td>-2.956758</td>\n",
       "      <td>426.407450</td>\n",
       "    </tr>\n",
       "    <tr>\n",
       "      <th>4043</th>\n",
       "      <td>2019-08-15</td>\n",
       "      <td>284.649994</td>\n",
       "      <td>0.279009</td>\n",
       "      <td>0.279009</td>\n",
       "      <td>0.170911</td>\n",
       "      <td>0.170911</td>\n",
       "      <td>0.148873</td>\n",
       "      <td>0.148873</td>\n",
       "      <td>0.131538</td>\n",
       "      <td>0.131538</td>\n",
       "      <td>0.264178</td>\n",
       "      <td>426.407450</td>\n",
       "    </tr>\n",
       "    <tr>\n",
       "      <th>4044</th>\n",
       "      <td>2019-08-16</td>\n",
       "      <td>288.850006</td>\n",
       "      <td>0.291971</td>\n",
       "      <td>0.291971</td>\n",
       "      <td>0.177300</td>\n",
       "      <td>0.177300</td>\n",
       "      <td>0.151767</td>\n",
       "      <td>0.151767</td>\n",
       "      <td>0.133197</td>\n",
       "      <td>0.133197</td>\n",
       "      <td>1.475500</td>\n",
       "      <td>426.407450</td>\n",
       "    </tr>\n",
       "    <tr>\n",
       "      <th>4045</th>\n",
       "      <td>2019-08-19</td>\n",
       "      <td>292.329987</td>\n",
       "      <td>0.247353</td>\n",
       "      <td>0.247353</td>\n",
       "      <td>0.180722</td>\n",
       "      <td>0.180722</td>\n",
       "      <td>0.151392</td>\n",
       "      <td>0.151392</td>\n",
       "      <td>0.134266</td>\n",
       "      <td>0.134266</td>\n",
       "      <td>1.204771</td>\n",
       "      <td>426.407450</td>\n",
       "    </tr>\n",
       "    <tr>\n",
       "      <th>4046</th>\n",
       "      <td>2019-08-20</td>\n",
       "      <td>290.089996</td>\n",
       "      <td>0.244292</td>\n",
       "      <td>0.244292</td>\n",
       "      <td>0.181822</td>\n",
       "      <td>0.181822</td>\n",
       "      <td>0.152294</td>\n",
       "      <td>0.152294</td>\n",
       "      <td>0.134737</td>\n",
       "      <td>0.134737</td>\n",
       "      <td>-0.766254</td>\n",
       "      <td>426.407450</td>\n",
       "    </tr>\n",
       "  </tbody>\n",
       "</table>\n",
       "<p>4047 rows × 12 columns</p>\n",
       "</div>"
      ],
      "text/plain": [
       "            Date       Close  MA_10_days  hist_vol_10_days  MA_30_days  \\\n",
       "0     2003-07-24   98.489998    0.144743          0.144743    0.162325   \n",
       "1     2003-07-25  100.230003    0.165046          0.165046    0.170363   \n",
       "2     2003-07-28   99.860001    0.163544          0.163544    0.167892   \n",
       "3     2003-07-29   99.400002    0.164545          0.164545    0.156343   \n",
       "4     2003-07-30   99.160004    0.162636          0.162636    0.156399   \n",
       "...          ...         ...         ...               ...         ...   \n",
       "4042  2019-08-14  283.899994    0.277827          0.277827    0.172750   \n",
       "4043  2019-08-15  284.649994    0.279009          0.279009    0.170911   \n",
       "4044  2019-08-16  288.850006    0.291971          0.291971    0.177300   \n",
       "4045  2019-08-19  292.329987    0.247353          0.247353    0.180722   \n",
       "4046  2019-08-20  290.089996    0.244292          0.244292    0.181822   \n",
       "\n",
       "      hist_vol_30_days  MA_60_days  hist_vol_60_days  MA_120_days  \\\n",
       "0             0.162325    0.155028          0.155028     0.187889   \n",
       "1             0.170363    0.158456          0.158456     0.189382   \n",
       "2             0.167892    0.158777          0.158777     0.188820   \n",
       "3             0.156343    0.156979          0.156979     0.188698   \n",
       "4             0.156399    0.157021          0.157021     0.188571   \n",
       "...                ...         ...               ...          ...   \n",
       "4042          0.172750    0.149935          0.149935     0.131500   \n",
       "4043          0.170911    0.148873          0.148873     0.131538   \n",
       "4044          0.177300    0.151767          0.151767     0.133197   \n",
       "4045          0.180722    0.151392          0.151392     0.134266   \n",
       "4046          0.181822    0.152294          0.152294     0.134737   \n",
       "\n",
       "      hist_vol_120_days    Return  trading_sim  \n",
       "0              0.187889 -0.755744    98.489998  \n",
       "1              0.189382  1.766682   100.230003  \n",
       "2              0.188820 -0.369153    99.860001  \n",
       "3              0.188698 -0.460644    99.400002  \n",
       "4              0.188571 -0.241447    99.160004  \n",
       "...                 ...       ...          ...  \n",
       "4042           0.131500 -2.956758   426.407450  \n",
       "4043           0.131538  0.264178   426.407450  \n",
       "4044           0.133197  1.475500   426.407450  \n",
       "4045           0.134266  1.204771   426.407450  \n",
       "4046           0.134737 -0.766254   426.407450  \n",
       "\n",
       "[4047 rows x 12 columns]"
      ]
     },
     "execution_count": 20,
     "metadata": {},
     "output_type": "execute_result"
    }
   ],
   "source": [
    "first_trading = train['Close'].iloc[0]\n",
    "trading = [first_trading]\n",
    "for day, (daily_return, prediction) in enumerate(zip(train['Return'][1:], predictions[1:]), start=1):\n",
    "    trading.append(trading[-1] * (1 + (daily_return / 100 * (prediction != loser_state))))\n",
    "train['trading_sim'] = trading\n",
    "train"
   ]
  },
  {
   "cell_type": "code",
   "execution_count": 21,
   "metadata": {},
   "outputs": [],
   "source": [
    "ret_lst = []\n",
    "date_lst = []\n",
    "for idx, prediction in enumerate(predictions):\n",
    "    if prediction != loser_state:\n",
    "        ret = train[\"Return\"][idx]\n",
    "        ret_lst.append(ret)\n",
    "        date = train[\"Date\"][idx]\n",
    "        date_lst.append(date)\n",
    "        \n",
    "    "
   ]
  },
  {
   "cell_type": "code",
   "execution_count": 22,
   "metadata": {},
   "outputs": [],
   "source": [
    "hmm_train_df = pd.DataFrame({\n",
    "                            \"Date\" : date_lst,\n",
    "                            \"Return Percent\" : ret_lst})"
   ]
  },
  {
   "cell_type": "markdown",
   "metadata": {},
   "source": [
    "we will create only a winner state DF"
   ]
  },
  {
   "cell_type": "code",
   "execution_count": 23,
   "metadata": {
    "scrolled": true
   },
   "outputs": [
    {
     "data": {
      "text/html": [
       "<div>\n",
       "<style scoped>\n",
       "    .dataframe tbody tr th:only-of-type {\n",
       "        vertical-align: middle;\n",
       "    }\n",
       "\n",
       "    .dataframe tbody tr th {\n",
       "        vertical-align: top;\n",
       "    }\n",
       "\n",
       "    .dataframe thead th {\n",
       "        text-align: right;\n",
       "    }\n",
       "</style>\n",
       "<table border=\"1\" class=\"dataframe\">\n",
       "  <thead>\n",
       "    <tr style=\"text-align: right;\">\n",
       "      <th></th>\n",
       "      <th>Date</th>\n",
       "      <th>Return Percent</th>\n",
       "    </tr>\n",
       "  </thead>\n",
       "  <tbody>\n",
       "    <tr>\n",
       "      <th>0</th>\n",
       "      <td>2003-07-24</td>\n",
       "      <td>-0.755744</td>\n",
       "    </tr>\n",
       "    <tr>\n",
       "      <th>1</th>\n",
       "      <td>2003-07-25</td>\n",
       "      <td>1.766682</td>\n",
       "    </tr>\n",
       "    <tr>\n",
       "      <th>2</th>\n",
       "      <td>2003-07-28</td>\n",
       "      <td>-0.369153</td>\n",
       "    </tr>\n",
       "    <tr>\n",
       "      <th>3</th>\n",
       "      <td>2003-07-29</td>\n",
       "      <td>-0.460644</td>\n",
       "    </tr>\n",
       "    <tr>\n",
       "      <th>4</th>\n",
       "      <td>2003-07-30</td>\n",
       "      <td>-0.241447</td>\n",
       "    </tr>\n",
       "    <tr>\n",
       "      <th>...</th>\n",
       "      <td>...</td>\n",
       "      <td>...</td>\n",
       "    </tr>\n",
       "    <tr>\n",
       "      <th>3483</th>\n",
       "      <td>2019-08-05</td>\n",
       "      <td>-3.007309</td>\n",
       "    </tr>\n",
       "    <tr>\n",
       "      <th>3484</th>\n",
       "      <td>2019-08-06</td>\n",
       "      <td>1.402291</td>\n",
       "    </tr>\n",
       "    <tr>\n",
       "      <th>3485</th>\n",
       "      <td>2019-08-07</td>\n",
       "      <td>0.059073</td>\n",
       "    </tr>\n",
       "    <tr>\n",
       "      <th>3486</th>\n",
       "      <td>2019-08-08</td>\n",
       "      <td>1.962008</td>\n",
       "    </tr>\n",
       "    <tr>\n",
       "      <th>3487</th>\n",
       "      <td>2019-08-09</td>\n",
       "      <td>-0.681153</td>\n",
       "    </tr>\n",
       "  </tbody>\n",
       "</table>\n",
       "<p>3488 rows × 2 columns</p>\n",
       "</div>"
      ],
      "text/plain": [
       "            Date  Return Percent\n",
       "0     2003-07-24       -0.755744\n",
       "1     2003-07-25        1.766682\n",
       "2     2003-07-28       -0.369153\n",
       "3     2003-07-29       -0.460644\n",
       "4     2003-07-30       -0.241447\n",
       "...          ...             ...\n",
       "3483  2019-08-05       -3.007309\n",
       "3484  2019-08-06        1.402291\n",
       "3485  2019-08-07        0.059073\n",
       "3486  2019-08-08        1.962008\n",
       "3487  2019-08-09       -0.681153\n",
       "\n",
       "[3488 rows x 2 columns]"
      ]
     },
     "execution_count": 23,
     "metadata": {},
     "output_type": "execute_result"
    }
   ],
   "source": [
    "hmm_train_df"
   ]
  },
  {
   "cell_type": "markdown",
   "metadata": {},
   "source": [
    "* Now we will set a 100 Dollars in the starting day and see the outcome according to the model and just leave our monney and not take it out."
   ]
  },
  {
   "cell_type": "code",
   "execution_count": 24,
   "metadata": {},
   "outputs": [],
   "source": [
    "amount = 100\n",
    "ret_summed = []\n",
    "for i in range(hmm_train_df.shape[0]):    \n",
    "    amount = amount * (100 + hmm_train_df[\"Return Percent\"][i])/100\n",
    "    ret_summed.append(amount)\n",
    "        "
   ]
  },
  {
   "cell_type": "code",
   "execution_count": 25,
   "metadata": {},
   "outputs": [],
   "source": [
    "amount = 100\n",
    "ret_summed_all = []\n",
    "for i in range(train.shape[0]):    \n",
    "    amount = amount * (100 + train[\"Return\"][i])/100\n",
    "    ret_summed_all.append(amount)"
   ]
  },
  {
   "cell_type": "markdown",
   "metadata": {},
   "source": [
    "* With Model prediction"
   ]
  },
  {
   "cell_type": "code",
   "execution_count": 26,
   "metadata": {
    "scrolled": false
   },
   "outputs": [
    {
     "data": {
      "text/plain": [
       "<AxesSubplot:>"
      ]
     },
     "execution_count": 26,
     "metadata": {},
     "output_type": "execute_result"
    },
    {
     "data": {
      "image/png": "[encoded data removed]",
      "text/plain": [
       "<Figure size 432x288 with 1 Axes>"
      ]
     },
     "metadata": {
      "needs_background": "light"
     },
     "output_type": "display_data"
    }
   ],
   "source": [
    "pd.DataFrame(np.array(ret_summed)).plot()"
   ]
  },
  {
   "cell_type": "markdown",
   "metadata": {},
   "source": [
    "* Without Model prediction"
   ]
  },
  {
   "cell_type": "code",
   "execution_count": 27,
   "metadata": {},
   "outputs": [
    {
     "data": {
      "text/plain": [
       "<AxesSubplot:>"
      ]
     },
     "execution_count": 27,
     "metadata": {},
     "output_type": "execute_result"
    },
    {
     "data": {
      "image/png": "[encoded data removed]",
      "text/plain": [
       "<Figure size 432x288 with 1 Axes>"
      ]
     },
     "metadata": {
      "needs_background": "light"
     },
     "output_type": "display_data"
    }
   ],
   "source": [
    "pd.DataFrame(np.array(ret_summed_all)).plot()"
   ]
  },
  {
   "cell_type": "markdown",
   "metadata": {},
   "source": [
    "* We can see the prediction went well."
   ]
  },
  {
   "cell_type": "code",
   "execution_count": 28,
   "metadata": {},
   "outputs": [
    {
     "data": {
      "image/png": "[encoded data removed]",
      "text/plain": [
       "<Figure size 1152x432 with 1 Axes>"
      ]
     },
     "metadata": {
      "needs_background": "light"
     },
     "output_type": "display_data"
    }
   ],
   "source": [
    "fig, ax = plt.subplots(1, 1, figsize=(16, 6))\n",
    "train.plot(x='Date', y='Close', color='dodgerblue', label='Long Only', ax=ax)\n",
    "train.plot(x='Date', y='trading_sim', color='orange', label='With HMM Regime detection', ax=ax)\n",
    "plt.grid()\n",
    "plt.legend();"
   ]
  },
  {
   "cell_type": "markdown",
   "metadata": {},
   "source": [
    "## Now lets test the model on the train data"
   ]
  },
  {
   "cell_type": "code",
   "execution_count": 29,
   "metadata": {},
   "outputs": [
    {
     "data": {
      "image/png": "[encoded data removed]",
      "text/plain": [
       "<Figure size 432x288 with 1 Axes>"
      ]
     },
     "metadata": {
      "needs_background": "light"
     },
     "output_type": "display_data"
    }
   ],
   "source": [
    "obs_test = list(zip(test[\"hist_vol_10_days\"], test[\"Return\"]))\n",
    "predictions_test = model.predict(obs_test)\n",
    "plt.plot(predictions_test, 'ro');"
   ]
  },
  {
   "cell_type": "code",
   "execution_count": 30,
   "metadata": {},
   "outputs": [
    {
     "data": {
      "image/png": "[encoded data removed]",
      "text/plain": [
       "<Figure size 1296x720 with 1 Axes>"
      ]
     },
     "metadata": {
      "needs_background": "light"
     },
     "output_type": "display_data"
    }
   ],
   "source": [
    "plot = sns.relplot(x=range(0,test.shape[0]), y=\"Close\", data=test, hue=predictions_test, \n",
    "            linewidth = 0, palette=\"Set2\", s = 10);\n",
    "plot.fig.set_size_inches(18,10)"
   ]
  },
  {
   "cell_type": "code",
   "execution_count": 31,
   "metadata": {},
   "outputs": [
    {
     "name": "stdout",
     "output_type": "stream",
     "text": [
      "Model Score: 2685.784269877008\n"
     ]
    }
   ],
   "source": [
    "print(\"Model Score: {0}\".format(model.score(obs)));"
   ]
  },
  {
   "cell_type": "code",
   "execution_count": 32,
   "metadata": {},
   "outputs": [
    {
     "data": {
      "text/html": [
       "<div>\n",
       "<style scoped>\n",
       "    .dataframe tbody tr th:only-of-type {\n",
       "        vertical-align: middle;\n",
       "    }\n",
       "\n",
       "    .dataframe tbody tr th {\n",
       "        vertical-align: top;\n",
       "    }\n",
       "\n",
       "    .dataframe thead th {\n",
       "        text-align: right;\n",
       "    }\n",
       "</style>\n",
       "<table border=\"1\" class=\"dataframe\">\n",
       "  <thead>\n",
       "    <tr style=\"text-align: right;\">\n",
       "      <th></th>\n",
       "      <th>Date</th>\n",
       "      <th>Close</th>\n",
       "      <th>MA_10_days</th>\n",
       "      <th>hist_vol_10_days</th>\n",
       "      <th>MA_30_days</th>\n",
       "      <th>hist_vol_30_days</th>\n",
       "      <th>MA_60_days</th>\n",
       "      <th>hist_vol_60_days</th>\n",
       "      <th>MA_120_days</th>\n",
       "      <th>hist_vol_120_days</th>\n",
       "      <th>Return</th>\n",
       "      <th>trading_sim_test</th>\n",
       "    </tr>\n",
       "  </thead>\n",
       "  <tbody>\n",
       "    <tr>\n",
       "      <th>0</th>\n",
       "      <td>2019-08-22</td>\n",
       "      <td>292.359985</td>\n",
       "      <td>0.225971</td>\n",
       "      <td>0.225971</td>\n",
       "      <td>0.182743</td>\n",
       "      <td>0.182743</td>\n",
       "      <td>0.150932</td>\n",
       "      <td>0.150932</td>\n",
       "      <td>0.134816</td>\n",
       "      <td>0.134816</td>\n",
       "      <td>-0.030784</td>\n",
       "      <td>292.359985</td>\n",
       "    </tr>\n",
       "    <tr>\n",
       "      <th>1</th>\n",
       "      <td>2019-08-23</td>\n",
       "      <td>284.850006</td>\n",
       "      <td>0.259275</td>\n",
       "      <td>0.259275</td>\n",
       "      <td>0.196015</td>\n",
       "      <td>0.196015</td>\n",
       "      <td>0.160575</td>\n",
       "      <td>0.160575</td>\n",
       "      <td>0.140122</td>\n",
       "      <td>0.140122</td>\n",
       "      <td>-2.568744</td>\n",
       "      <td>292.359985</td>\n",
       "    </tr>\n",
       "    <tr>\n",
       "      <th>2</th>\n",
       "      <td>2019-08-26</td>\n",
       "      <td>288.000000</td>\n",
       "      <td>0.260680</td>\n",
       "      <td>0.260680</td>\n",
       "      <td>0.199431</td>\n",
       "      <td>0.199431</td>\n",
       "      <td>0.159373</td>\n",
       "      <td>0.159373</td>\n",
       "      <td>0.140693</td>\n",
       "      <td>0.140693</td>\n",
       "      <td>1.105843</td>\n",
       "      <td>292.359985</td>\n",
       "    </tr>\n",
       "    <tr>\n",
       "      <th>3</th>\n",
       "      <td>2019-08-27</td>\n",
       "      <td>286.869995</td>\n",
       "      <td>0.246257</td>\n",
       "      <td>0.246257</td>\n",
       "      <td>0.199495</td>\n",
       "      <td>0.199495</td>\n",
       "      <td>0.159521</td>\n",
       "      <td>0.159521</td>\n",
       "      <td>0.140255</td>\n",
       "      <td>0.140255</td>\n",
       "      <td>-0.392363</td>\n",
       "      <td>292.359985</td>\n",
       "    </tr>\n",
       "    <tr>\n",
       "      <th>4</th>\n",
       "      <td>2019-08-28</td>\n",
       "      <td>288.890015</td>\n",
       "      <td>0.192419</td>\n",
       "      <td>0.192419</td>\n",
       "      <td>0.200297</td>\n",
       "      <td>0.200297</td>\n",
       "      <td>0.154152</td>\n",
       "      <td>0.154152</td>\n",
       "      <td>0.140543</td>\n",
       "      <td>0.140543</td>\n",
       "      <td>0.704159</td>\n",
       "      <td>294.418663</td>\n",
       "    </tr>\n",
       "    <tr>\n",
       "      <th>...</th>\n",
       "      <td>...</td>\n",
       "      <td>...</td>\n",
       "      <td>...</td>\n",
       "      <td>...</td>\n",
       "      <td>...</td>\n",
       "      <td>...</td>\n",
       "      <td>...</td>\n",
       "      <td>...</td>\n",
       "      <td>...</td>\n",
       "      <td>...</td>\n",
       "      <td>...</td>\n",
       "      <td>...</td>\n",
       "    </tr>\n",
       "    <tr>\n",
       "      <th>498</th>\n",
       "      <td>2021-08-13</td>\n",
       "      <td>445.920013</td>\n",
       "      <td>0.060217</td>\n",
       "      <td>0.060217</td>\n",
       "      <td>0.099337</td>\n",
       "      <td>0.099337</td>\n",
       "      <td>0.093842</td>\n",
       "      <td>0.093842</td>\n",
       "      <td>0.125438</td>\n",
       "      <td>0.125438</td>\n",
       "      <td>0.181984</td>\n",
       "      <td>526.468320</td>\n",
       "    </tr>\n",
       "    <tr>\n",
       "      <th>499</th>\n",
       "      <td>2021-08-16</td>\n",
       "      <td>446.970001</td>\n",
       "      <td>0.056429</td>\n",
       "      <td>0.056429</td>\n",
       "      <td>0.097529</td>\n",
       "      <td>0.097529</td>\n",
       "      <td>0.091833</td>\n",
       "      <td>0.091833</td>\n",
       "      <td>0.124633</td>\n",
       "      <td>0.124633</td>\n",
       "      <td>0.235466</td>\n",
       "      <td>527.707971</td>\n",
       "    </tr>\n",
       "    <tr>\n",
       "      <th>500</th>\n",
       "      <td>2021-08-17</td>\n",
       "      <td>444.040009</td>\n",
       "      <td>0.060805</td>\n",
       "      <td>0.060805</td>\n",
       "      <td>0.099675</td>\n",
       "      <td>0.099675</td>\n",
       "      <td>0.093130</td>\n",
       "      <td>0.093130</td>\n",
       "      <td>0.119485</td>\n",
       "      <td>0.119485</td>\n",
       "      <td>-0.655523</td>\n",
       "      <td>524.248723</td>\n",
       "    </tr>\n",
       "    <tr>\n",
       "      <th>501</th>\n",
       "      <td>2021-08-18</td>\n",
       "      <td>439.179993</td>\n",
       "      <td>0.080787</td>\n",
       "      <td>0.080787</td>\n",
       "      <td>0.105031</td>\n",
       "      <td>0.105031</td>\n",
       "      <td>0.094463</td>\n",
       "      <td>0.094463</td>\n",
       "      <td>0.120444</td>\n",
       "      <td>0.120444</td>\n",
       "      <td>-1.094500</td>\n",
       "      <td>518.510823</td>\n",
       "    </tr>\n",
       "    <tr>\n",
       "      <th>502</th>\n",
       "      <td>2021-08-19</td>\n",
       "      <td>439.859985</td>\n",
       "      <td>0.073663</td>\n",
       "      <td>0.073663</td>\n",
       "      <td>0.101894</td>\n",
       "      <td>0.101894</td>\n",
       "      <td>0.094268</td>\n",
       "      <td>0.094268</td>\n",
       "      <td>0.115767</td>\n",
       "      <td>0.115767</td>\n",
       "      <td>0.154832</td>\n",
       "      <td>519.313645</td>\n",
       "    </tr>\n",
       "  </tbody>\n",
       "</table>\n",
       "<p>503 rows × 12 columns</p>\n",
       "</div>"
      ],
      "text/plain": [
       "           Date       Close  MA_10_days  hist_vol_10_days  MA_30_days  \\\n",
       "0    2019-08-22  292.359985    0.225971          0.225971    0.182743   \n",
       "1    2019-08-23  284.850006    0.259275          0.259275    0.196015   \n",
       "2    2019-08-26  288.000000    0.260680          0.260680    0.199431   \n",
       "3    2019-08-27  286.869995    0.246257          0.246257    0.199495   \n",
       "4    2019-08-28  288.890015    0.192419          0.192419    0.200297   \n",
       "..          ...         ...         ...               ...         ...   \n",
       "498  2021-08-13  445.920013    0.060217          0.060217    0.099337   \n",
       "499  2021-08-16  446.970001    0.056429          0.056429    0.097529   \n",
       "500  2021-08-17  444.040009    0.060805          0.060805    0.099675   \n",
       "501  2021-08-18  439.179993    0.080787          0.080787    0.105031   \n",
       "502  2021-08-19  439.859985    0.073663          0.073663    0.101894   \n",
       "\n",
       "     hist_vol_30_days  MA_60_days  hist_vol_60_days  MA_120_days  \\\n",
       "0            0.182743    0.150932          0.150932     0.134816   \n",
       "1            0.196015    0.160575          0.160575     0.140122   \n",
       "2            0.199431    0.159373          0.159373     0.140693   \n",
       "3            0.199495    0.159521          0.159521     0.140255   \n",
       "4            0.200297    0.154152          0.154152     0.140543   \n",
       "..                ...         ...               ...          ...   \n",
       "498          0.099337    0.093842          0.093842     0.125438   \n",
       "499          0.097529    0.091833          0.091833     0.124633   \n",
       "500          0.099675    0.093130          0.093130     0.119485   \n",
       "501          0.105031    0.094463          0.094463     0.120444   \n",
       "502          0.101894    0.094268          0.094268     0.115767   \n",
       "\n",
       "     hist_vol_120_days    Return  trading_sim_test  \n",
       "0             0.134816 -0.030784        292.359985  \n",
       "1             0.140122 -2.568744        292.359985  \n",
       "2             0.140693  1.105843        292.359985  \n",
       "3             0.140255 -0.392363        292.359985  \n",
       "4             0.140543  0.704159        294.418663  \n",
       "..                 ...       ...               ...  \n",
       "498           0.125438  0.181984        526.468320  \n",
       "499           0.124633  0.235466        527.707971  \n",
       "500           0.119485 -0.655523        524.248723  \n",
       "501           0.120444 -1.094500        518.510823  \n",
       "502           0.115767  0.154832        519.313645  \n",
       "\n",
       "[503 rows x 12 columns]"
      ]
     },
     "execution_count": 32,
     "metadata": {},
     "output_type": "execute_result"
    }
   ],
   "source": [
    "first_trading_test = test['Close'].iloc[0]\n",
    "trading_test = [first_trading_test]\n",
    "for day, (daily_return, prediction) in enumerate(zip(test['Return'][1:], predictions_test[1:]), start=1):\n",
    "    trading_test.append(trading_test[-1] * (1 + (daily_return / 100 * (prediction != loser_state))))\n",
    "test['trading_sim_test'] = trading_test\n",
    "test"
   ]
  },
  {
   "cell_type": "markdown",
   "metadata": {},
   "source": [
    "* we can see a great outcome for about 30 $"
   ]
  },
  {
   "cell_type": "code",
   "execution_count": 43,
   "metadata": {},
   "outputs": [
    {
     "data": {
      "image/png": "[encoded data removed]",
      "text/plain": [
       "<Figure size 1152x432 with 1 Axes>"
      ]
     },
     "metadata": {
      "needs_background": "light"
     },
     "output_type": "display_data"
    }
   ],
   "source": [
    "fig, ax = plt.subplots(1, 1, figsize=(16, 6))\n",
    "test.plot(x='Date', y='Close', color='dodgerblue', label='Long Only', ax=ax)\n",
    "test.plot(x='Date', y='trading_sim_test', color='orange', label='With HMM Regime detection', ax=ax)\n",
    "plt.title('Test set Trading Simulation', fontsize=26)\n",
    "plt.grid()\n",
    "plt.legend();"
   ]
  },
  {
   "cell_type": "code",
   "execution_count": 48,
   "metadata": {},
   "outputs": [],
   "source": [
    "def calculate_Zscore(df, serie):\n",
    "    this_df = deepcopy(df)\n",
    "    this_df[f'{serie}_return'] = this_df[serie].pct_change()\n",
    "    breakpoint\n",
    "    print('ronert')"
   ]
  },
  {
   "cell_type": "code",
   "execution_count": 47,
   "metadata": {},
   "outputs": [
    {
     "data": {
      "text/plain": [
       "0     -1.489233\n",
       "1     -1.489233\n",
       "2     -1.489233\n",
       "3     -1.489233\n",
       "4     -1.459923\n",
       "         ...   \n",
       "498    1.843849\n",
       "499    1.861498\n",
       "500    1.812248\n",
       "501    1.730555\n",
       "502    1.741985\n",
       "Name: trading_sim_test, Length: 503, dtype: float64"
      ]
     },
     "execution_count": 47,
     "metadata": {},
     "output_type": "execute_result"
    }
   ],
   "source": [
    "(test.trading_sim_test - test.trading_sim_test.mean())/test.trading_sim_test.std(ddof=0)"
   ]
  },
  {
   "cell_type": "code",
   "execution_count": null,
   "metadata": {},
   "outputs": [],
   "source": []
  }
 ],
 "metadata": {
  "kernelspec": {
   "display_name": "Python 3",
   "language": "python",
   "name": "python3"
  },
  "language_info": {
   "codemirror_mode": {
    "name": "ipython",
    "version": 3
   },
   "file_extension": ".py",
   "mimetype": "text/x-python",
   "name": "python",
   "nbconvert_exporter": "python",
   "pygments_lexer": "ipython3",
   "version": "3.9.1"
  }
 },
 "nbformat": 4,
 "nbformat_minor": 4
}
